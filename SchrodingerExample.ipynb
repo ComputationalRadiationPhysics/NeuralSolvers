{
 "cells": [
  {
   "cell_type": "markdown",
   "metadata": {},
   "source": [
    "# Implementing an Physics-informed neural network for the 1D Schrodinger equation using the PINN framework"
   ]
  },
  {
   "cell_type": "markdown",
   "metadata": {},
   "source": [
    "### Including necessary libaries "
   ]
  },
  {
   "cell_type": "code",
   "execution_count": 1,
   "metadata": {},
   "outputs": [],
   "source": [
    "from PINNFramework.PINN import Interface\n",
    "from torch.autograd import grad\n",
    "from torch.autograd import Variable\n",
    "import torch\n",
    "import numpy as np\n",
    "import torch.nn as nn\n",
    "import scipy.io\n",
    "from pyDOE import lhs\n",
    "import torch.optim as optim"
   ]
  },
  {
   "cell_type": "markdown",
   "metadata": {},
   "source": [
    "### Implementing needed functions"
   ]
  },
  {
   "cell_type": "code",
   "execution_count": 2,
   "metadata": {},
   "outputs": [],
   "source": [
    "class SchrodingerPINN(Interface):\n",
    "    def __init__(self, model, input_d, output_d, lb, ub):\n",
    "        super().__init__(model,input_d,output_d)\n",
    "        self.lb = lb\n",
    "        self.ub = ub\n",
    "        \n",
    "    def pde(self, x, u, derivatives):\n",
    "        u_xx = derivatives[:,0]\n",
    "        v_xx = derivatives[:,1]\n",
    "        _u = u[:,0]\n",
    "        _v = u[:,1]\n",
    "        real_part = - 0.5 * v_xx - (_u**2 - _v**2)*_v\n",
    "        imaginary_part= 0.5 * u_xx + (_u**2 + _v**2)*_u \n",
    "        result = torch.stack([real_part,imaginary_part],1)\n",
    "        return result\n",
    "        \n",
    "    def derivatives(self, u, x):\n",
    "        grads= torch.ones(x.shape[0])\n",
    "        pred_u = u[:,0]\n",
    "        pred_v = u[:,1]\n",
    "        J_u = grad(pred_u, x, create_graph=True, grad_outputs=grads)[0]\n",
    "        J_v = grad(pred_v, x, create_graph=True, grad_outputs=grads)[0]\n",
    "        \n",
    "        #calculate first order derivatives\n",
    "        u_x = J_u[:,0]\n",
    "        u_t = J_u[:,1]\n",
    "\n",
    "        v_x = J_v[:,0]\n",
    "        v_t = J_v[:,1]\n",
    "        \n",
    "        # calculate second order derivatives\n",
    "        J_u_x = grad(u_x, x, create_graph=True, grad_outputs=grads)[0]\n",
    "        J_v_x = grad(v_x, x, create_graph=True, grad_outputs=grads)[0]\n",
    "\n",
    "        u_xx = J_u_x[:,0]\n",
    "        v_xx = J_v_x[:,0]\n",
    "        pred_derivatives = torch.stack([u_xx,v_xx,u_t,v_t],1)\n",
    "        return pred_derivatives\n",
    "    \n",
    "        \n",
    "    def input_normalization(self,x):\n",
    "        \"\"\"\n",
    "        Implementation of min-max scaling in range of [-1,1]\n",
    "        \"\"\"\n",
    "        return 2.0 * (x - self.lb) / (self.ub - self.lb) - 1.0"
   ]
  },
  {
   "cell_type": "markdown",
   "metadata": {},
   "source": [
    "###  Creating a model with the sequential API from torch"
   ]
  },
  {
   "cell_type": "code",
   "execution_count": 3,
   "metadata": {},
   "outputs": [],
   "source": [
    "pinn_model = nn.Sequential(\n",
    "          nn.Linear(2,100),\n",
    "          nn.Tanh(),\n",
    "          nn.Linear(100,100),\n",
    "          nn.Tanh(),\n",
    "          nn.Linear(100,2)\n",
    "        )"
   ]
  },
  {
   "cell_type": "code",
   "execution_count": 4,
   "metadata": {},
   "outputs": [],
   "source": [
    "lb = torch.tensor([-5.0, 0.0])\n",
    "ub = torch.tensor([[5.0, np.pi / 2]])"
   ]
  },
  {
   "cell_type": "code",
   "execution_count": 5,
   "metadata": {},
   "outputs": [],
   "source": [
    "model = SchrodingerPINN(model = pinn_model, input_d = 2, output_d = 2, lb = lb, ub= ub)"
   ]
  },
  {
   "cell_type": "markdown",
   "metadata": {},
   "source": [
    "### Testing forward function of the model (testing normalization)"
   ]
  },
  {
   "cell_type": "code",
   "execution_count": 6,
   "metadata": {},
   "outputs": [
    {
     "data": {
      "text/plain": [
       "torch.Size([100, 2])"
      ]
     },
     "execution_count": 6,
     "metadata": {},
     "output_type": "execute_result"
    }
   ],
   "source": [
    "sample_x = torch.randn(100,2)\n",
    "sample_pred = model(sample_x)\n",
    "sample_pred.shape"
   ]
  },
  {
   "cell_type": "markdown",
   "metadata": {},
   "source": [
    "### Preparing data "
   ]
  },
  {
   "cell_type": "code",
   "execution_count": 7,
   "metadata": {},
   "outputs": [],
   "source": [
    "noise = 0.0\n",
    "np.random.seed(1234)\n",
    "\n",
    "# Doman bounds\n",
    "lb = np.array([-5.0, 0.0])  # lower bound consists of [lower bound of x, lower bound of t]\n",
    "ub = np.array([5.0, np.pi / 2])  # upper bound follows from lower bound\n",
    "\n",
    "# defines the sizes of the neural network\n",
    "N0 = 50\n",
    "N_b = 50\n",
    "N_f = 20000\n",
    "\n",
    "data = scipy.io.loadmat('/home/stille15/AIPP/Data/NLS.mat')\n",
    "\n",
    "\n",
    "t = data['tt'].flatten()[:, None]  # get timestamps\n",
    "x = data['x'].flatten()[:, None]  # get x positions\n",
    "Exact = data['uu']\n",
    "# definie labels\n",
    "Exact_u = np.real(Exact)\n",
    "Exact_v = np.imag(Exact)\n",
    "Exact_h = np.sqrt(Exact_u ** 2 + Exact_v ** 2)\n",
    "\n",
    "X, T = np.meshgrid(x, t)\n",
    "\n",
    "X_star = np.hstack((X.flatten()[:, None], T.flatten()[:, None]))  # concats the arrays\n",
    "u_star = Exact_u.T.flatten()[:, None]  #\n",
    "v_star = Exact_v.T.flatten()[:, None]\n",
    "h_star = Exact_h.T.flatten()[:, None]\n",
    "\n",
    "###########################\n",
    "\n",
    "idx_x = np.random.choice(x.shape[0], N0, replace=False)\n",
    "idx_x = np.sort(idx_x)\n",
    "\n",
    "x0 = x[idx_x, :]\n",
    "u0 = Exact_u[idx_x, 0:1]\n",
    "v0 = Exact_v[idx_x, 0:1]\n",
    "\n",
    "idx_t = np.random.choice(t.shape[0], N_b, replace=False)\n",
    "idx_t = np.sort(idx_t)\n",
    "tb = t[idx_t, :]\n",
    "\n",
    "x_f = lb + (ub - lb) * lhs(2, N_f) # determine sampling points \n",
    "t0 = torch.zeros([x0.shape[0],1])\n",
    "\n",
    "X_lb = np.concatenate((0 * tb + lb[0], tb), 1)  # (lb[0], tb)\n",
    "X_ub = np.concatenate((0 * tb + ub[0], tb), 1)  # (ub[0], tb)\n",
    "\n",
    "x_b = np.vstack((X_lb,X_ub)) # [x,t]\n",
    "x_0 = np.concatenate([x0,t0],1)\n",
    "u_b = np.zeros(x_b.shape)\n",
    "u_0 = np.concatenate([u0,v0],1)\n",
    "\n",
    "\n"
   ]
  },
  {
   "cell_type": "markdown",
   "metadata": {},
   "source": [
    "### Create input_data dictionary and transfer data to torch"
   ]
  },
  {
   "cell_type": "code",
   "execution_count": 8,
   "metadata": {},
   "outputs": [],
   "source": [
    "x = {\"x_0\": torch.tensor(x_0).float(), \"x_b\": torch.tensor(x_b).float(), \"x_f\":torch.tensor(x_f).float()}\n",
    "u_0 = torch.tensor(u_0).float()\n",
    "u_b = torch.tensor(u_b).float()"
   ]
  },
  {
   "cell_type": "markdown",
   "metadata": {},
   "source": [
    "### Preparing Optimizer for training\n"
   ]
  },
  {
   "cell_type": "code",
   "execution_count": 9,
   "metadata": {},
   "outputs": [],
   "source": [
    "optimizer = optim.Adam(model.parameters(),lr=1e-3)"
   ]
  },
  {
   "cell_type": "markdown",
   "metadata": {},
   "source": [
    "### Training_loop "
   ]
  },
  {
   "cell_type": "code",
   "execution_count": null,
   "metadata": {},
   "outputs": [
    {
     "name": "stdout",
     "output_type": "stream",
     "text": [
      "tensor(16.3256, grad_fn=<AddBackward0>)\n",
      "Epoch 1 Loss 16.3256244659:\n",
      "tensor(15.2674, grad_fn=<AddBackward0>)\n",
      "Epoch 2 Loss 15.2674007416:\n",
      "tensor(14.2445, grad_fn=<AddBackward0>)\n",
      "Epoch 3 Loss 14.2444829941:\n",
      "tensor(13.2568, grad_fn=<AddBackward0>)\n",
      "Epoch 4 Loss 13.2568387985:\n",
      "tensor(12.3048, grad_fn=<AddBackward0>)\n",
      "Epoch 5 Loss 12.3048095703:\n",
      "tensor(11.3884, grad_fn=<AddBackward0>)\n",
      "Epoch 6 Loss 11.3883666992:\n",
      "tensor(10.5071, grad_fn=<AddBackward0>)\n",
      "Epoch 7 Loss 10.5071077347:\n",
      "tensor(9.6605, grad_fn=<AddBackward0>)\n",
      "Epoch 8 Loss 9.6604957581:\n",
      "tensor(8.8480, grad_fn=<AddBackward0>)\n",
      "Epoch 9 Loss 8.8479690552:\n",
      "tensor(8.0691, grad_fn=<AddBackward0>)\n",
      "Epoch 10 Loss 8.0690784454:\n",
      "tensor(7.3236, grad_fn=<AddBackward0>)\n",
      "Epoch 11 Loss 7.3236293793:\n",
      "tensor(6.6117, grad_fn=<AddBackward0>)\n",
      "Epoch 12 Loss 6.6117372513:\n",
      "tensor(5.9338, grad_fn=<AddBackward0>)\n",
      "Epoch 13 Loss 5.9338412285:\n",
      "tensor(5.2907, grad_fn=<AddBackward0>)\n",
      "Epoch 14 Loss 5.2906742096:\n",
      "tensor(4.6832, grad_fn=<AddBackward0>)\n",
      "Epoch 15 Loss 4.6832017899:\n",
      "tensor(4.1125, grad_fn=<AddBackward0>)\n",
      "Epoch 16 Loss 4.1125450134:\n",
      "tensor(3.5799, grad_fn=<AddBackward0>)\n",
      "Epoch 17 Loss 3.5798857212:\n",
      "tensor(3.0864, grad_fn=<AddBackward0>)\n",
      "Epoch 18 Loss 3.0863747597:\n",
      "tensor(2.6330, grad_fn=<AddBackward0>)\n",
      "Epoch 19 Loss 2.6330287457:\n",
      "tensor(2.2206, grad_fn=<AddBackward0>)\n",
      "Epoch 20 Loss 2.2206213474:\n",
      "tensor(1.8496, grad_fn=<AddBackward0>)\n",
      "Epoch 21 Loss 1.8495721817:\n",
      "tensor(1.5198, grad_fn=<AddBackward0>)\n",
      "Epoch 22 Loss 1.5198254585:\n",
      "tensor(1.2308, grad_fn=<AddBackward0>)\n",
      "Epoch 23 Loss 1.2307543755:\n",
      "tensor(0.9811, grad_fn=<AddBackward0>)\n",
      "Epoch 24 Loss 0.9811019897:\n",
      "tensor(0.7690, grad_fn=<AddBackward0>)\n",
      "Epoch 25 Loss 0.7690209746:\n",
      "tensor(0.5922, grad_fn=<AddBackward0>)\n",
      "Epoch 26 Loss 0.5922032595:\n",
      "tensor(0.4481, grad_fn=<AddBackward0>)\n",
      "Epoch 27 Loss 0.4480611682:\n",
      "tensor(0.3339, grad_fn=<AddBackward0>)\n",
      "Epoch 28 Loss 0.3338667452:\n",
      "tensor(0.2468, grad_fn=<AddBackward0>)\n",
      "Epoch 29 Loss 0.2468189150:\n",
      "tensor(0.1840, grad_fn=<AddBackward0>)\n",
      "Epoch 30 Loss 0.1840405166:\n",
      "tensor(0.1425, grad_fn=<AddBackward0>)\n",
      "Epoch 31 Loss 0.1425423324:\n",
      "tensor(0.1192, grad_fn=<AddBackward0>)\n",
      "Epoch 32 Loss 0.1191849262:\n",
      "tensor(0.1107, grad_fn=<AddBackward0>)\n",
      "Epoch 33 Loss 0.1106719226:\n",
      "tensor(0.1136, grad_fn=<AddBackward0>)\n",
      "Epoch 34 Loss 0.1135969087:\n",
      "tensor(0.1246, grad_fn=<AddBackward0>)\n",
      "Epoch 35 Loss 0.1245612130:\n",
      "tensor(0.1404, grad_fn=<AddBackward0>)\n",
      "Epoch 36 Loss 0.1403506994:\n",
      "tensor(0.1581, grad_fn=<AddBackward0>)\n",
      "Epoch 37 Loss 0.1581302285:\n",
      "tensor(0.1756, grad_fn=<AddBackward0>)\n",
      "Epoch 38 Loss 0.1755948365:\n",
      "tensor(0.1910, grad_fn=<AddBackward0>)\n",
      "Epoch 39 Loss 0.1910321116:\n",
      "tensor(0.2033, grad_fn=<AddBackward0>)\n",
      "Epoch 40 Loss 0.2032946497:\n",
      "tensor(0.2117, grad_fn=<AddBackward0>)\n",
      "Epoch 41 Loss 0.2117089182:\n",
      "tensor(0.2160, grad_fn=<AddBackward0>)\n",
      "Epoch 42 Loss 0.2159649879:\n",
      "tensor(0.2160, grad_fn=<AddBackward0>)\n",
      "Epoch 43 Loss 0.2160186172:\n",
      "tensor(0.2120, grad_fn=<AddBackward0>)\n",
      "Epoch 44 Loss 0.2120320648:\n",
      "tensor(0.2044, grad_fn=<AddBackward0>)\n",
      "Epoch 45 Loss 0.2043516934:\n",
      "tensor(0.1935, grad_fn=<AddBackward0>)\n",
      "Epoch 46 Loss 0.1935030371:\n",
      "tensor(0.1802, grad_fn=<AddBackward0>)\n",
      "Epoch 47 Loss 0.1801744103:\n",
      "tensor(0.1652, grad_fn=<AddBackward0>)\n",
      "Epoch 48 Loss 0.1651708186:\n",
      "tensor(0.1493, grad_fn=<AddBackward0>)\n",
      "Epoch 49 Loss 0.1493373513:\n",
      "tensor(0.1335, grad_fn=<AddBackward0>)\n",
      "Epoch 50 Loss 0.1334744096:\n",
      "tensor(0.1183, grad_fn=<AddBackward0>)\n",
      "Epoch 51 Loss 0.1182633713:\n",
      "tensor(0.1042, grad_fn=<AddBackward0>)\n",
      "Epoch 52 Loss 0.1042217016:\n",
      "tensor(0.0917, grad_fn=<AddBackward0>)\n",
      "Epoch 53 Loss 0.0916940197:\n",
      "tensor(0.0809, grad_fn=<AddBackward0>)\n",
      "Epoch 54 Loss 0.0808722004:\n",
      "tensor(0.0718, grad_fn=<AddBackward0>)\n",
      "Epoch 55 Loss 0.0718314648:\n",
      "tensor(0.0646, grad_fn=<AddBackward0>)\n",
      "Epoch 56 Loss 0.0645630732:\n",
      "tensor(0.0590, grad_fn=<AddBackward0>)\n",
      "Epoch 57 Loss 0.0589959100:\n",
      "tensor(0.0550, grad_fn=<AddBackward0>)\n",
      "Epoch 58 Loss 0.0550043769:\n",
      "tensor(0.0524, grad_fn=<AddBackward0>)\n",
      "Epoch 59 Loss 0.0524104349:\n",
      "tensor(0.0510, grad_fn=<AddBackward0>)\n",
      "Epoch 60 Loss 0.0509886555:\n",
      "tensor(0.0505, grad_fn=<AddBackward0>)\n",
      "Epoch 61 Loss 0.0504800752:\n",
      "tensor(0.0506, grad_fn=<AddBackward0>)\n",
      "Epoch 62 Loss 0.0506143644:\n",
      "tensor(0.0511, grad_fn=<AddBackward0>)\n",
      "Epoch 63 Loss 0.0511352606:\n",
      "tensor(0.0518, grad_fn=<AddBackward0>)\n",
      "Epoch 64 Loss 0.0518225469:\n",
      "tensor(0.0525, grad_fn=<AddBackward0>)\n",
      "Epoch 65 Loss 0.0525035560:\n",
      "tensor(0.0531, grad_fn=<AddBackward0>)\n",
      "Epoch 66 Loss 0.0530541278:\n",
      "tensor(0.0534, grad_fn=<AddBackward0>)\n",
      "Epoch 67 Loss 0.0533917807:\n",
      "tensor(0.0535, grad_fn=<AddBackward0>)\n",
      "Epoch 68 Loss 0.0534653515:\n",
      "tensor(0.0532, grad_fn=<AddBackward0>)\n",
      "Epoch 69 Loss 0.0532470047:\n",
      "tensor(0.0527, grad_fn=<AddBackward0>)\n",
      "Epoch 70 Loss 0.0527283028:\n",
      "tensor(0.0519, grad_fn=<AddBackward0>)\n",
      "Epoch 71 Loss 0.0519202165:\n",
      "tensor(0.0509, grad_fn=<AddBackward0>)\n",
      "Epoch 72 Loss 0.0508534312:\n",
      "tensor(0.0496, grad_fn=<AddBackward0>)\n",
      "Epoch 73 Loss 0.0495774560:\n",
      "tensor(0.0482, grad_fn=<AddBackward0>)\n",
      "Epoch 74 Loss 0.0481559634:\n",
      "tensor(0.0467, grad_fn=<AddBackward0>)\n",
      "Epoch 75 Loss 0.0466582291:\n",
      "tensor(0.0452, grad_fn=<AddBackward0>)\n",
      "Epoch 76 Loss 0.0451507531:\n",
      "tensor(0.0437, grad_fn=<AddBackward0>)\n",
      "Epoch 77 Loss 0.0436896980:\n",
      "tensor(0.0423, grad_fn=<AddBackward0>)\n",
      "Epoch 78 Loss 0.0423174724:\n",
      "tensor(0.0411, grad_fn=<AddBackward0>)\n",
      "Epoch 79 Loss 0.0410622880:\n",
      "tensor(0.0399, grad_fn=<AddBackward0>)\n",
      "Epoch 80 Loss 0.0399409682:\n",
      "tensor(0.0390, grad_fn=<AddBackward0>)\n",
      "Epoch 81 Loss 0.0389620289:\n",
      "tensor(0.0381, grad_fn=<AddBackward0>)\n",
      "Epoch 82 Loss 0.0381275788:\n",
      "tensor(0.0374, grad_fn=<AddBackward0>)\n",
      "Epoch 83 Loss 0.0374341868:\n",
      "tensor(0.0369, grad_fn=<AddBackward0>)\n",
      "Epoch 84 Loss 0.0368723460:\n",
      "tensor(0.0364, grad_fn=<AddBackward0>)\n",
      "Epoch 85 Loss 0.0364263989:\n",
      "tensor(0.0361, grad_fn=<AddBackward0>)\n",
      "Epoch 86 Loss 0.0360753424:\n",
      "tensor(0.0358, grad_fn=<AddBackward0>)\n",
      "Epoch 87 Loss 0.0357951745:\n",
      "tensor(0.0356, grad_fn=<AddBackward0>)\n",
      "Epoch 88 Loss 0.0355615206:\n",
      "tensor(0.0354, grad_fn=<AddBackward0>)\n",
      "Epoch 89 Loss 0.0353522822:\n",
      "tensor(0.0351, grad_fn=<AddBackward0>)\n",
      "Epoch 90 Loss 0.0351493061:\n",
      "tensor(0.0349, grad_fn=<AddBackward0>)\n",
      "Epoch 91 Loss 0.0349386409:\n",
      "tensor(0.0347, grad_fn=<AddBackward0>)\n",
      "Epoch 92 Loss 0.0347099416:\n",
      "tensor(0.0345, grad_fn=<AddBackward0>)\n",
      "Epoch 93 Loss 0.0344559737:\n",
      "tensor(0.0342, grad_fn=<AddBackward0>)\n",
      "Epoch 94 Loss 0.0341722704:\n",
      "tensor(0.0339, grad_fn=<AddBackward0>)\n",
      "Epoch 95 Loss 0.0338571854:\n",
      "tensor(0.0335, grad_fn=<AddBackward0>)\n",
      "Epoch 96 Loss 0.0335119292:\n",
      "tensor(0.0331, grad_fn=<AddBackward0>)\n",
      "Epoch 97 Loss 0.0331408530:\n",
      "tensor(0.0328, grad_fn=<AddBackward0>)\n",
      "Epoch 98 Loss 0.0327505395:\n",
      "tensor(0.0323, grad_fn=<AddBackward0>)\n"
     ]
    }
   ],
   "source": [
    "num_epochs = 100\n",
    "for epoch in range(num_epochs):\n",
    "    optimizer.zero_grad()\n",
    "    loss = model.pinn_loss(x, u_0, u_b,nn.MSELoss(), nn.MSELoss(), nn.MSELoss())\n",
    "    loss.backward()\n",
    "    print(\"Epoch %d Loss %.10f:\"%(epoch + 1, loss.item()))\n",
    "    optimizer.step()"
   ]
  },
  {
   "cell_type": "code",
   "execution_count": null,
   "metadata": {},
   "outputs": [],
   "source": []
  }
 ],
 "metadata": {
  "kernelspec": {
   "display_name": "Python 3",
   "language": "python",
   "name": "python3"
  },
  "language_info": {
   "codemirror_mode": {
    "name": "ipython",
    "version": 3
   },
   "file_extension": ".py",
   "mimetype": "text/x-python",
   "name": "python",
   "nbconvert_exporter": "python",
   "pygments_lexer": "ipython3",
   "version": "3.6.5"
  }
 },
 "nbformat": 4,
 "nbformat_minor": 4
}
