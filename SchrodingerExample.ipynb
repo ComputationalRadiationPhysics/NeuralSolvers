{
 "cells": [
  {
   "cell_type": "markdown",
   "metadata": {},
   "source": [
    "# Implementing an Physics-informed neural network for the 1D Schrodinger equation using the PINN framework"
   ]
  },
  {
   "cell_type": "markdown",
   "metadata": {},
   "source": [
    "### Including necessary libaries "
   ]
  },
  {
   "cell_type": "code",
   "execution_count": 1,
   "metadata": {},
   "outputs": [],
   "source": [
    "from PINNFramework.PINN import Interface\n",
    "from torch.autograd import grad\n",
    "from torch.autograd import Variable\n",
    "import torch\n",
    "import numpy as np\n",
    "import torch.nn as nn\n",
    "import scipy.io\n",
    "from pyDOE import lhs\n",
    "import torch.optim as optim"
   ]
  },
  {
   "cell_type": "markdown",
   "metadata": {},
   "source": [
    "### Implementing needed functions"
   ]
  },
  {
   "cell_type": "code",
   "execution_count": 2,
   "metadata": {},
   "outputs": [],
   "source": [
    "class SchrodingerPINN(Interface):\n",
    "    def __init__(self, model, input_d, output_d, lb, ub):\n",
    "        super().__init__(model,input_d,output_d)\n",
    "        self.lb = lb\n",
    "        self.ub = ub\n",
    "        \n",
    "    def pde(self, x, u, derivatives):\n",
    "        u_xx = derivatives[:,0]\n",
    "        v_xx = derivatives[:,1]\n",
    "        _u = u[:,0]\n",
    "        _v = u[:,1]\n",
    "        real_part = - 0.5 * v_xx - (_u**2 - _v**2)*_v\n",
    "        imaginary_part= 0.5 * u_xx + (_u**2 + _v**2)*_u \n",
    "        result = torch.stack([real_part,imaginary_part],1)\n",
    "        return result\n",
    "        \n",
    "    def derivatives(self, u, x):\n",
    "        grads= torch.ones(x.shape[0])\n",
    "        pred_u = u[:,0]\n",
    "        pred_v = u[:,1]\n",
    "        J_u = grad(pred_u, x, create_graph=True, grad_outputs=grads)[0]\n",
    "        J_v = grad(pred_v, x, create_graph=True, grad_outputs=grads)[0]\n",
    "        \n",
    "        #calculate first order derivatives\n",
    "        u_x = J_u[:,0]\n",
    "        u_t = J_u[:,1]\n",
    "\n",
    "        v_x = J_v[:,0]\n",
    "        v_t = J_v[:,1]\n",
    "        \n",
    "        # calculate second order derivatives\n",
    "        J_u_x = grad(u_x, x, create_graph=True, grad_outputs=grads)[0]\n",
    "        J_v_x = grad(v_x, x, create_graph=True, grad_outputs=grads)[0]\n",
    "\n",
    "        u_xx = J_u_x[:,0]\n",
    "        v_xx = J_v_x[:,0]\n",
    "        pred_derivatives = torch.stack([u_xx,v_xx,u_t,v_t],1)\n",
    "        return pred_derivatives\n",
    "    \n",
    "        \n",
    "    def input_normalization(self,x):\n",
    "        \"\"\"\n",
    "        Implementation of min-max scaling in range of [-1,1]\n",
    "        \"\"\"\n",
    "        return 2.0 * (x - self.lb) / (self.ub - self.lb) - 1.0"
   ]
  },
  {
   "cell_type": "markdown",
   "metadata": {},
   "source": [
    "###  Creating a model with the sequential API from torch"
   ]
  },
  {
   "cell_type": "code",
   "execution_count": 3,
   "metadata": {},
   "outputs": [],
   "source": [
    "pinn_model = nn.Sequential(\n",
    "          nn.Linear(2,100),\n",
    "          nn.Tanh(),\n",
    "          nn.Linear(100,100),\n",
    "          nn.Tanh(),\n",
    "          nn.Linear(100,2)\n",
    "        )"
   ]
  },
  {
   "cell_type": "code",
   "execution_count": 4,
   "metadata": {},
   "outputs": [],
   "source": [
    "lb = torch.tensor([-5.0, 0.0])\n",
    "ub = torch.tensor([[5.0, np.pi / 2]])"
   ]
  },
  {
   "cell_type": "code",
   "execution_count": 5,
   "metadata": {},
   "outputs": [],
   "source": [
    "model = SchrodingerPINN(model = pinn_model, input_d = 2, output_d = 2, lb = lb, ub= ub)"
   ]
  },
  {
   "cell_type": "markdown",
   "metadata": {},
   "source": [
    "### Testing forward function of the model (testing normalization)"
   ]
  },
  {
   "cell_type": "code",
   "execution_count": 6,
   "metadata": {},
   "outputs": [
    {
     "data": {
      "text/plain": [
       "torch.Size([100, 2])"
      ]
     },
     "execution_count": 6,
     "metadata": {},
     "output_type": "execute_result"
    }
   ],
   "source": [
    "sample_x = torch.randn(100,2)\n",
    "sample_pred = model(sample_x)\n",
    "sample_pred.shape"
   ]
  },
  {
   "cell_type": "markdown",
   "metadata": {},
   "source": [
    "### Preparing data "
   ]
  },
  {
   "cell_type": "code",
   "execution_count": 7,
   "metadata": {},
   "outputs": [],
   "source": [
    "noise = 0.0\n",
    "np.random.seed(1234)\n",
    "\n",
    "# Doman bounds\n",
    "lb = np.array([-5.0, 0.0])  # lower bound consists of [lower bound of x, lower bound of t]\n",
    "ub = np.array([5.0, np.pi / 2])  # upper bound follows from lower bound\n",
    "\n",
    "# defines the sizes of the neural network\n",
    "N0 = 50\n",
    "N_b = 50\n",
    "N_f = 20000\n",
    "\n",
    "data = scipy.io.loadmat('/home/stille15/AIPP/Data/NLS.mat')\n",
    "\n",
    "\n",
    "t = data['tt'].flatten()[:, None]  # get timestamps\n",
    "x = data['x'].flatten()[:, None]  # get x positions\n",
    "Exact = data['uu']\n",
    "# definie labels\n",
    "Exact_u = np.real(Exact)\n",
    "Exact_v = np.imag(Exact)\n",
    "Exact_h = np.sqrt(Exact_u ** 2 + Exact_v ** 2)\n",
    "\n",
    "X, T = np.meshgrid(x, t)\n",
    "\n",
    "X_star = np.hstack((X.flatten()[:, None], T.flatten()[:, None]))  # concats the arrays\n",
    "u_star = Exact_u.T.flatten()[:, None]  #\n",
    "v_star = Exact_v.T.flatten()[:, None]\n",
    "h_star = Exact_h.T.flatten()[:, None]\n",
    "\n",
    "###########################\n",
    "\n",
    "idx_x = np.random.choice(x.shape[0], N0, replace=False)\n",
    "idx_x = np.sort(idx_x)\n",
    "\n",
    "x0 = x[idx_x, :]\n",
    "u0 = Exact_u[idx_x, 0:1]\n",
    "v0 = Exact_v[idx_x, 0:1]\n",
    "\n",
    "idx_t = np.random.choice(t.shape[0], N_b, replace=False)\n",
    "idx_t = np.sort(idx_t)\n",
    "tb = t[idx_t, :]\n",
    "\n",
    "x_f = lb + (ub - lb) * lhs(2, N_f) # determine sampling points \n",
    "t0 = torch.zeros([x0.shape[0],1])\n",
    "\n",
    "X_lb = np.concatenate((0 * tb + lb[0], tb), 1)  # (lb[0], tb)\n",
    "X_ub = np.concatenate((0 * tb + ub[0], tb), 1)  # (ub[0], tb)\n",
    "\n",
    "x_b = np.vstack((X_lb,X_ub)) # [x,t]\n",
    "x_0 = np.concatenate([x0,t0],1)\n",
    "u_b = np.zeros(x_b.shape)\n",
    "u_0 = np.concatenate([u0,v0],1)\n",
    "\n",
    "\n"
   ]
  },
  {
   "cell_type": "markdown",
   "metadata": {},
   "source": [
    "### Create input_data dictionary and transfer data to torch"
   ]
  },
  {
   "cell_type": "code",
   "execution_count": 8,
   "metadata": {},
   "outputs": [],
   "source": [
    "x = {\"x_0\": torch.tensor(x_0).float(), \"x_b\": torch.tensor(x_b).float(), \"x_f\":torch.tensor(x_f).float()}\n",
    "u_0 = torch.tensor(u_0).float()\n",
    "u_b = torch.tensor(u_b).float()"
   ]
  },
  {
   "cell_type": "markdown",
   "metadata": {},
   "source": [
    "### Preparing Optimizer for training\n"
   ]
  },
  {
   "cell_type": "code",
   "execution_count": 9,
   "metadata": {},
   "outputs": [],
   "source": [
    "optimizer = optim.Adam(model.parameters(),lr=1e-3)"
   ]
  },
  {
   "cell_type": "markdown",
   "metadata": {},
   "source": [
    "### Training_loop "
   ]
  },
  {
   "cell_type": "code",
   "execution_count": 10,
   "metadata": {},
   "outputs": [
    {
     "name": "stdout",
     "output_type": "stream",
     "text": [
      "tensor(17.4293, grad_fn=<AddBackward0>)\n",
      "Epoch 1 Loss 17.4293117523:\n",
      "tensor(16.4510, grad_fn=<AddBackward0>)\n",
      "Epoch 2 Loss 16.4509925842:\n",
      "tensor(15.5060, grad_fn=<AddBackward0>)\n",
      "Epoch 3 Loss 15.5059871674:\n",
      "tensor(14.5922, grad_fn=<AddBackward0>)\n",
      "Epoch 4 Loss 14.5922470093:\n",
      "tensor(13.7074, grad_fn=<AddBackward0>)\n",
      "Epoch 5 Loss 13.7074356079:\n",
      "tensor(12.8494, grad_fn=<AddBackward0>)\n",
      "Epoch 6 Loss 12.8493852615:\n",
      "tensor(12.0163, grad_fn=<AddBackward0>)\n",
      "Epoch 7 Loss 12.0162534714:\n",
      "tensor(11.2065, grad_fn=<AddBackward0>)\n",
      "Epoch 8 Loss 11.2064838409:\n",
      "tensor(10.4189, grad_fn=<AddBackward0>)\n",
      "Epoch 9 Loss 10.4189033508:\n",
      "tensor(9.6529, grad_fn=<AddBackward0>)\n",
      "Epoch 10 Loss 9.6528549194:\n",
      "tensor(8.9082, grad_fn=<AddBackward0>)\n",
      "Epoch 11 Loss 8.9082260132:\n",
      "tensor(8.1854, grad_fn=<AddBackward0>)\n",
      "Epoch 12 Loss 8.1854429245:\n",
      "tensor(7.4854, grad_fn=<AddBackward0>)\n",
      "Epoch 13 Loss 7.4853901863:\n",
      "tensor(6.8093, grad_fn=<AddBackward0>)\n",
      "Epoch 14 Loss 6.8093342781:\n",
      "tensor(6.1588, grad_fn=<AddBackward0>)\n",
      "Epoch 15 Loss 6.1588377953:\n",
      "tensor(5.5357, grad_fn=<AddBackward0>)\n",
      "Epoch 16 Loss 5.5356569290:\n",
      "tensor(4.9417, grad_fn=<AddBackward0>)\n",
      "Epoch 17 Loss 4.9416637421:\n",
      "tensor(4.3787, grad_fn=<AddBackward0>)\n",
      "Epoch 18 Loss 4.3787369728:\n",
      "tensor(3.8487, grad_fn=<AddBackward0>)\n",
      "Epoch 19 Loss 3.8486785889:\n",
      "tensor(3.3531, grad_fn=<AddBackward0>)\n",
      "Epoch 20 Loss 3.3531210423:\n",
      "tensor(2.8934, grad_fn=<AddBackward0>)\n",
      "Epoch 21 Loss 2.8934402466:\n",
      "tensor(2.4707, grad_fn=<AddBackward0>)\n",
      "Epoch 22 Loss 2.4706861973:\n",
      "tensor(2.0855, grad_fn=<AddBackward0>)\n",
      "Epoch 23 Loss 2.0855224133:\n",
      "tensor(1.7382, grad_fn=<AddBackward0>)\n",
      "Epoch 24 Loss 1.7381964922:\n",
      "tensor(1.4285, grad_fn=<AddBackward0>)\n",
      "Epoch 25 Loss 1.4285376072:\n",
      "tensor(1.1560, grad_fn=<AddBackward0>)\n",
      "Epoch 26 Loss 1.1559751034:\n",
      "tensor(0.9196, grad_fn=<AddBackward0>)\n",
      "Epoch 27 Loss 0.9195716381:\n",
      "tensor(0.7180, grad_fn=<AddBackward0>)\n",
      "Epoch 28 Loss 0.7180458903:\n",
      "tensor(0.5498, grad_fn=<AddBackward0>)\n",
      "Epoch 29 Loss 0.5497828126:\n",
      "tensor(0.4128, grad_fn=<AddBackward0>)\n",
      "Epoch 30 Loss 0.4128340185:\n",
      "tensor(0.3049, grad_fn=<AddBackward0>)\n",
      "Epoch 31 Loss 0.3049140573:\n",
      "tensor(0.2234, grad_fn=<AddBackward0>)\n",
      "Epoch 32 Loss 0.2234025896:\n",
      "tensor(0.1654, grad_fn=<AddBackward0>)\n",
      "Epoch 33 Loss 0.1653678715:\n",
      "tensor(0.1276, grad_fn=<AddBackward0>)\n",
      "Epoch 34 Loss 0.1276209354:\n",
      "tensor(0.1068, grad_fn=<AddBackward0>)\n",
      "Epoch 35 Loss 0.1068069637:\n",
      "tensor(0.0995, grad_fn=<AddBackward0>)\n",
      "Epoch 36 Loss 0.0995280743:\n",
      "tensor(0.1025, grad_fn=<AddBackward0>)\n",
      "Epoch 37 Loss 0.1024788618:\n",
      "tensor(0.1126, grad_fn=<AddBackward0>)\n",
      "Epoch 38 Loss 0.1125735193:\n",
      "tensor(0.1270, grad_fn=<AddBackward0>)\n",
      "Epoch 39 Loss 0.1270417422:\n",
      "tensor(0.1435, grad_fn=<AddBackward0>)\n",
      "Epoch 40 Loss 0.1434879452:\n",
      "tensor(0.1599, grad_fn=<AddBackward0>)\n",
      "Epoch 41 Loss 0.1599161476:\n",
      "tensor(0.1747, grad_fn=<AddBackward0>)\n",
      "Epoch 42 Loss 0.1747325212:\n",
      "tensor(0.1867, grad_fn=<AddBackward0>)\n",
      "Epoch 43 Loss 0.1867399365:\n",
      "tensor(0.1951, grad_fn=<AddBackward0>)\n",
      "Epoch 44 Loss 0.1951290369:\n",
      "tensor(0.1995, grad_fn=<AddBackward0>)\n",
      "Epoch 45 Loss 0.1994683743:\n",
      "tensor(0.1997, grad_fn=<AddBackward0>)\n",
      "Epoch 46 Loss 0.1996816099:\n",
      "tensor(0.1960, grad_fn=<AddBackward0>)\n",
      "Epoch 47 Loss 0.1960064173:\n",
      "tensor(0.1889, grad_fn=<AddBackward0>)\n",
      "Epoch 48 Loss 0.1889297515:\n",
      "tensor(0.1791, grad_fn=<AddBackward0>)\n",
      "Epoch 49 Loss 0.1791064441:\n",
      "tensor(0.1673, grad_fn=<AddBackward0>)\n",
      "Epoch 50 Loss 0.1672761142:\n",
      "tensor(0.1542, grad_fn=<AddBackward0>)\n",
      "Epoch 51 Loss 0.1541871279:\n",
      "tensor(0.1405, grad_fn=<AddBackward0>)\n",
      "Epoch 52 Loss 0.1405379772:\n",
      "tensor(0.1269, grad_fn=<AddBackward0>)\n",
      "Epoch 53 Loss 0.1269423664:\n",
      "tensor(0.1139, grad_fn=<AddBackward0>)\n",
      "Epoch 54 Loss 0.1139102951:\n",
      "tensor(0.1018, grad_fn=<AddBackward0>)\n",
      "Epoch 55 Loss 0.1018433496:\n",
      "tensor(0.0910, grad_fn=<AddBackward0>)\n",
      "Epoch 56 Loss 0.0910341218:\n",
      "tensor(0.0817, grad_fn=<AddBackward0>)\n",
      "Epoch 57 Loss 0.0816681087:\n",
      "tensor(0.0738, grad_fn=<AddBackward0>)\n",
      "Epoch 58 Loss 0.0738268495:\n"
     ]
    },
    {
     "ename": "KeyboardInterrupt",
     "evalue": "",
     "output_type": "error",
     "traceback": [
      "\u001b[0;31m---------------------------------------------------------------------------\u001b[0m",
      "\u001b[0;31mKeyboardInterrupt\u001b[0m                         Traceback (most recent call last)",
      "\u001b[0;32m<ipython-input-10-32dc89ae6408>\u001b[0m in \u001b[0;36m<module>\u001b[0;34m()\u001b[0m\n\u001b[1;32m      2\u001b[0m \u001b[0;32mfor\u001b[0m \u001b[0mepoch\u001b[0m \u001b[0;32min\u001b[0m \u001b[0mrange\u001b[0m\u001b[0;34m(\u001b[0m\u001b[0mnum_epochs\u001b[0m\u001b[0;34m)\u001b[0m\u001b[0;34m:\u001b[0m\u001b[0;34m\u001b[0m\u001b[0m\n\u001b[1;32m      3\u001b[0m     \u001b[0moptimizer\u001b[0m\u001b[0;34m.\u001b[0m\u001b[0mzero_grad\u001b[0m\u001b[0;34m(\u001b[0m\u001b[0;34m)\u001b[0m\u001b[0;34m\u001b[0m\u001b[0m\n\u001b[0;32m----> 4\u001b[0;31m     \u001b[0mloss\u001b[0m \u001b[0;34m=\u001b[0m \u001b[0mmodel\u001b[0m\u001b[0;34m.\u001b[0m\u001b[0mpinn_loss\u001b[0m\u001b[0;34m(\u001b[0m\u001b[0mx\u001b[0m\u001b[0;34m,\u001b[0m \u001b[0mu_0\u001b[0m\u001b[0;34m,\u001b[0m \u001b[0mu_b\u001b[0m\u001b[0;34m,\u001b[0m\u001b[0mnn\u001b[0m\u001b[0;34m.\u001b[0m\u001b[0mMSELoss\u001b[0m\u001b[0;34m(\u001b[0m\u001b[0;34m)\u001b[0m\u001b[0;34m,\u001b[0m \u001b[0mnn\u001b[0m\u001b[0;34m.\u001b[0m\u001b[0mMSELoss\u001b[0m\u001b[0;34m(\u001b[0m\u001b[0;34m)\u001b[0m\u001b[0;34m,\u001b[0m \u001b[0mnn\u001b[0m\u001b[0;34m.\u001b[0m\u001b[0mMSELoss\u001b[0m\u001b[0;34m(\u001b[0m\u001b[0;34m)\u001b[0m\u001b[0;34m)\u001b[0m\u001b[0;34m\u001b[0m\u001b[0m\n\u001b[0m\u001b[1;32m      5\u001b[0m     \u001b[0mprint\u001b[0m\u001b[0;34m(\u001b[0m\u001b[0mloss\u001b[0m\u001b[0;34m)\u001b[0m\u001b[0;34m\u001b[0m\u001b[0m\n\u001b[1;32m      6\u001b[0m     \u001b[0mloss\u001b[0m\u001b[0;34m.\u001b[0m\u001b[0mbackward\u001b[0m\u001b[0;34m(\u001b[0m\u001b[0;34m)\u001b[0m\u001b[0;34m\u001b[0m\u001b[0m\n",
      "\u001b[0;32m~/NeuralSolvers/PINNFramework/PINN.py\u001b[0m in \u001b[0;36mpinn_loss\u001b[0;34m(self, x, ex_u, boundary_u, interpolation_criterion, boundary_criterion, pde_norm, lambda_0, lambda_b, lambda_f)\u001b[0m\n\u001b[1;32m     34\u001b[0m         \u001b[0mu_b\u001b[0m \u001b[0;34m=\u001b[0m \u001b[0mprediction_u\u001b[0m\u001b[0;34m[\u001b[0m\u001b[0mlen_x0\u001b[0m\u001b[0;34m:\u001b[0m\u001b[0;34m-\u001b[0m\u001b[0mlen_xf\u001b[0m\u001b[0;34m,\u001b[0m\u001b[0;34m:\u001b[0m\u001b[0;34m]\u001b[0m\u001b[0;34m\u001b[0m\u001b[0m\n\u001b[1;32m     35\u001b[0m         \u001b[0mu_f\u001b[0m \u001b[0;34m=\u001b[0m \u001b[0mprediction_u\u001b[0m\u001b[0;34m[\u001b[0m\u001b[0;34m-\u001b[0m\u001b[0mlen_xf\u001b[0m\u001b[0;34m:\u001b[0m\u001b[0;34m]\u001b[0m\u001b[0;34m\u001b[0m\u001b[0m\n\u001b[0;32m---> 36\u001b[0;31m         \u001b[0mpred_derivatives\u001b[0m \u001b[0;34m=\u001b[0m \u001b[0mself\u001b[0m\u001b[0;34m.\u001b[0m\u001b[0mderivatives\u001b[0m\u001b[0;34m(\u001b[0m\u001b[0mprediction_u\u001b[0m\u001b[0;34m,\u001b[0m \u001b[0minput_x\u001b[0m\u001b[0;34m)\u001b[0m\u001b[0;34m\u001b[0m\u001b[0m\n\u001b[0m\u001b[1;32m     37\u001b[0m         \u001b[0ml_0\u001b[0m \u001b[0;34m=\u001b[0m \u001b[0mself\u001b[0m\u001b[0;34m.\u001b[0m\u001b[0minterpolation_loss\u001b[0m\u001b[0;34m(\u001b[0m\u001b[0mx_0\u001b[0m\u001b[0;34m,\u001b[0m \u001b[0mu_0\u001b[0m\u001b[0;34m,\u001b[0m\u001b[0minterpolation_criterion\u001b[0m\u001b[0;34m)\u001b[0m\u001b[0;34m\u001b[0m\u001b[0m\n\u001b[1;32m     38\u001b[0m         \u001b[0ml_b\u001b[0m \u001b[0;34m=\u001b[0m \u001b[0mself\u001b[0m\u001b[0;34m.\u001b[0m\u001b[0mboundary_loss\u001b[0m\u001b[0;34m(\u001b[0m\u001b[0mx_b\u001b[0m\u001b[0;34m,\u001b[0m \u001b[0mu_b\u001b[0m\u001b[0;34m,\u001b[0m \u001b[0mboundary_criterion\u001b[0m\u001b[0;34m)\u001b[0m\u001b[0;34m\u001b[0m\u001b[0m\n",
      "\u001b[0;32m<ipython-input-2-6197c4b27448>\u001b[0m in \u001b[0;36mderivatives\u001b[0;34m(self, u, x)\u001b[0m\n\u001b[1;32m     30\u001b[0m \u001b[0;34m\u001b[0m\u001b[0m\n\u001b[1;32m     31\u001b[0m         \u001b[0;31m# calculate second order derivatives\u001b[0m\u001b[0;34m\u001b[0m\u001b[0;34m\u001b[0m\u001b[0m\n\u001b[0;32m---> 32\u001b[0;31m         \u001b[0mJ_u_x\u001b[0m \u001b[0;34m=\u001b[0m \u001b[0mgrad\u001b[0m\u001b[0;34m(\u001b[0m\u001b[0mu_x\u001b[0m\u001b[0;34m,\u001b[0m \u001b[0mx\u001b[0m\u001b[0;34m,\u001b[0m \u001b[0mcreate_graph\u001b[0m\u001b[0;34m=\u001b[0m\u001b[0;32mTrue\u001b[0m\u001b[0;34m,\u001b[0m \u001b[0mgrad_outputs\u001b[0m\u001b[0;34m=\u001b[0m\u001b[0mgrads\u001b[0m\u001b[0;34m)\u001b[0m\u001b[0;34m[\u001b[0m\u001b[0;36m0\u001b[0m\u001b[0;34m]\u001b[0m\u001b[0;34m\u001b[0m\u001b[0m\n\u001b[0m\u001b[1;32m     33\u001b[0m         \u001b[0mJ_v_x\u001b[0m \u001b[0;34m=\u001b[0m \u001b[0mgrad\u001b[0m\u001b[0;34m(\u001b[0m\u001b[0mv_x\u001b[0m\u001b[0;34m,\u001b[0m \u001b[0mx\u001b[0m\u001b[0;34m,\u001b[0m \u001b[0mcreate_graph\u001b[0m\u001b[0;34m=\u001b[0m\u001b[0;32mTrue\u001b[0m\u001b[0;34m,\u001b[0m \u001b[0mgrad_outputs\u001b[0m\u001b[0;34m=\u001b[0m\u001b[0mgrads\u001b[0m\u001b[0;34m)\u001b[0m\u001b[0;34m[\u001b[0m\u001b[0;36m0\u001b[0m\u001b[0;34m]\u001b[0m\u001b[0;34m\u001b[0m\u001b[0m\n\u001b[1;32m     34\u001b[0m \u001b[0;34m\u001b[0m\u001b[0m\n",
      "\u001b[0;32m~/.local/lib/python3.6/site-packages/torch/autograd/__init__.py\u001b[0m in \u001b[0;36mgrad\u001b[0;34m(outputs, inputs, grad_outputs, retain_graph, create_graph, only_inputs, allow_unused)\u001b[0m\n\u001b[1;32m    156\u001b[0m     return Variable._execution_engine.run_backward(\n\u001b[1;32m    157\u001b[0m         \u001b[0moutputs\u001b[0m\u001b[0;34m,\u001b[0m \u001b[0mgrad_outputs\u001b[0m\u001b[0;34m,\u001b[0m \u001b[0mretain_graph\u001b[0m\u001b[0;34m,\u001b[0m \u001b[0mcreate_graph\u001b[0m\u001b[0;34m,\u001b[0m\u001b[0;34m\u001b[0m\u001b[0m\n\u001b[0;32m--> 158\u001b[0;31m         inputs, allow_unused)\n\u001b[0m\u001b[1;32m    159\u001b[0m \u001b[0;34m\u001b[0m\u001b[0m\n\u001b[1;32m    160\u001b[0m \u001b[0;34m\u001b[0m\u001b[0m\n",
      "\u001b[0;31mKeyboardInterrupt\u001b[0m: "
     ]
    }
   ],
   "source": [
    "num_epochs = 100\n",
    "for epoch in range(num_epochs):\n",
    "    optimizer.zero_grad()\n",
    "    loss = model.pinn_loss(x, u_0, u_b,nn.MSELoss(), nn.MSELoss(), nn.MSELoss())\n",
    "    print(loss)\n",
    "    loss.backward()\n",
    "    print(\"Epoch %d Loss %.10f:\"%(epoch + 1, loss.item()))\n",
    "    optimizer.step()"
   ]
  },
  {
   "cell_type": "code",
   "execution_count": null,
   "metadata": {},
   "outputs": [],
   "source": []
  }
 ],
 "metadata": {
  "kernelspec": {
   "display_name": "Python 3",
   "language": "python",
   "name": "python3"
  },
  "language_info": {
   "codemirror_mode": {
    "name": "ipython",
    "version": 3
   },
   "file_extension": ".py",
   "mimetype": "text/x-python",
   "name": "python",
   "nbconvert_exporter": "python",
   "pygments_lexer": "ipython3",
   "version": "3.6.5"
  }
 },
 "nbformat": 4,
 "nbformat_minor": 4
}
